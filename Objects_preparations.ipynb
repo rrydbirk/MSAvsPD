{
 "cells": [
  {
   "cell_type": "markdown",
   "id": "76d11287-c0b1-4d2c-a947-a692d4f8bdf3",
   "metadata": {},
   "source": [
    "# Setup"
   ]
  },
  {
   "cell_type": "code",
   "execution_count": 1,
   "id": "76cc7f23-1c6a-4bbe-8945-ae72464d1b2d",
   "metadata": {},
   "outputs": [],
   "source": [
    "import loompy as lp\n",
    "import anndata as ad\n",
    "import fast_matrix_market as fmm\n",
    "import pandas as pd\n",
    "import scvelo as scv\n",
    "import os"
   ]
  },
  {
   "cell_type": "markdown",
   "id": "0338bf66-3d5c-4daa-95e0-ad9fc92fdd20",
   "metadata": {},
   "source": [
    "# Create H5AD file"
   ]
  },
  {
   "cell_type": "markdown",
   "id": "0a4993de-325a-46bd-ab11-2f4914916423",
   "metadata": {},
   "source": [
    "We provide combined data in `velocity.loom`."
   ]
  },
  {
   "cell_type": "code",
   "execution_count": 20,
   "id": "83a6771b-1f2a-48d2-92b9-45a9399e1087",
   "metadata": {},
   "outputs": [
    {
     "name": "stderr",
     "output_type": "stream",
     "text": [
      "Variable names are not unique. To make them unique, call `.var_names_make_unique`.\n"
     ]
    }
   ],
   "source": [
    "adata = ad.read_loom(\"velocyto.loom\")"
   ]
  },
  {
   "cell_type": "code",
   "execution_count": 21,
   "id": "29ac3871-6ce6-408b-a337-4a98aebe208d",
   "metadata": {},
   "outputs": [
    {
     "data": {
      "text/plain": [
       "AnnData object with n_obs × n_vars = 127278 × 58395\n",
       "    obs: 'Clusters', '_X', '_Y'\n",
       "    var: 'Accession', 'Chromosome', 'End', 'Start', 'Strand'\n",
       "    layers: 'matrix', 'ambiguous', 'spliced', 'unspliced'"
      ]
     },
     "execution_count": 21,
     "metadata": {},
     "output_type": "execute_result"
    }
   ],
   "source": [
    "adata"
   ]
  },
  {
   "cell_type": "markdown",
   "id": "8f6a1dde-c9c7-4f2f-abed-1792ceb8c06a",
   "metadata": {},
   "source": [
    "## Make unique gene names and update cell names to match those from R"
   ]
  },
  {
   "cell_type": "code",
   "execution_count": 22,
   "id": "9b941eb4-767e-44d3-9eba-194a8baea3bb",
   "metadata": {},
   "outputs": [
    {
     "data": {
      "text/plain": [
       "Index(['MSA_K1418:AAAGAACAGAAACACTx', 'MSA_K1418:AAGAACAGTCATCCGGx',\n",
       "       'MSA_K1418:AAGCCATAGCGAGTACx', 'MSA_K1418:AAGATAGCAAGAGGTCx',\n",
       "       'MSA_K1418:AACCCAAAGTGACCTTx', 'MSA_K1418:AAGAACACATCTGTTTx',\n",
       "       'MSA_K1418:AACGAAATCTGCCTCAx', 'MSA_K1418:AAGCGTTAGAAGATCTx',\n",
       "       'MSA_K1418:AAAGTCCTCCACGGGTx', 'MSA_K1418:AAAGTGAAGATAACGTx',\n",
       "       ...\n",
       "       'PD_K1449:TTTCATGGTCCGAAAGx', 'PD_K1449:TTTGATCTCAAATGCCx',\n",
       "       'PD_K1449:TTTGGTTAGGTCCTGCx', 'PD_K1449:TTTGTTGTCGCTTGAAx',\n",
       "       'PD_K1449:TTTGTTGCACCGGCTAx', 'PD_K1449:TTTGTTGGTAAGCGGTx',\n",
       "       'PD_K1449:TTTGGTTCACGTGAGAx', 'PD_K1449:TTTGTTGGTAGAAACTx',\n",
       "       'PD_K1449:TTTGTTGTCCACACAAx', 'PD_K1449:TTTGGTTCAAGCCCACx'],\n",
       "      dtype='object', length=127278)"
      ]
     },
     "execution_count": 22,
     "metadata": {},
     "output_type": "execute_result"
    }
   ],
   "source": [
    "adata.obs.index"
   ]
  },
  {
   "cell_type": "code",
   "execution_count": 40,
   "id": "29a78c3f-6ef8-4d7b-8c17-070059613de0",
   "metadata": {},
   "outputs": [],
   "source": [
    "new_index = []\n",
    "for string in adata.obs.index:\n",
    "    new_index.append(string.replace(\":\", \"!!\").replace(\"x\", \"-1\").replace(\"_K\", \"_\"))\n",
    "\n",
    "adata.obs.index = new_index"
   ]
  },
  {
   "cell_type": "code",
   "execution_count": 24,
   "id": "56927f32-2c4d-4a4f-93c4-c17fd9aa3f68",
   "metadata": {},
   "outputs": [],
   "source": [
    "adata.var_names_make_unique()"
   ]
  },
  {
   "cell_type": "code",
   "execution_count": 26,
   "id": "e44ca584-0e1a-4ca9-9f33-e0718c4fc5a2",
   "metadata": {},
   "outputs": [],
   "source": [
    "adata.obs.index.name = \"cells\"\n",
    "adata.var.index.name = \"genes\""
   ]
  },
  {
   "cell_type": "markdown",
   "id": "3e31bfdb-880f-4c9f-9d00-8b6e725f7a23",
   "metadata": {},
   "source": [
    "# Create subsets"
   ]
  },
  {
   "cell_type": "code",
   "execution_count": 3,
   "id": "2744201e-a99c-4a18-87d5-b9331b32e02b",
   "metadata": {},
   "outputs": [
    {
     "data": {
      "text/plain": [
       "AnnData object with n_obs × n_vars = 127278 × 58395\n",
       "    obs: 'Clusters', '_X', '_Y'\n",
       "    var: 'Accession', 'Chromosome', 'End', 'Start', 'Strand'\n",
       "    layers: 'ambiguous', 'matrix', 'spliced', 'unspliced'"
      ]
     },
     "execution_count": 3,
     "metadata": {},
     "output_type": "execute_result"
    }
   ],
   "source": [
    "adata"
   ]
  },
  {
   "cell_type": "markdown",
   "id": "519f9ea7-346e-45fa-aa77-329953908e0b",
   "metadata": {},
   "source": [
    "## Microglia"
   ]
  },
  {
   "cell_type": "code",
   "execution_count": 4,
   "id": "36616ecf-862d-4e43-b9ac-ea428a992c86",
   "metadata": {},
   "outputs": [],
   "source": [
    "adata_subset = ad.AnnData(X = fmm.mmread(\"microglia_pvms.mtx\"))\n",
    "cellids = pd.read_csv(\"microglia_pvms.cells\", header = None)[0].str.replace(\"_K\", \"_\")\n",
    "genes = pd.read_csv(\"microglia_pvms.genes\", header = None)"
   ]
  },
  {
   "cell_type": "code",
   "execution_count": 5,
   "id": "983dad47-a320-42f4-97fd-69c4ab0faa55",
   "metadata": {},
   "outputs": [
    {
     "data": {
      "text/html": [
       "<div>\n",
       "<style scoped>\n",
       "    .dataframe tbody tr th:only-of-type {\n",
       "        vertical-align: middle;\n",
       "    }\n",
       "\n",
       "    .dataframe tbody tr th {\n",
       "        vertical-align: top;\n",
       "    }\n",
       "\n",
       "    .dataframe thead th {\n",
       "        text-align: right;\n",
       "    }\n",
       "</style>\n",
       "<table border=\"1\" class=\"dataframe\">\n",
       "  <thead>\n",
       "    <tr style=\"text-align: right;\">\n",
       "      <th></th>\n",
       "      <th>0</th>\n",
       "      <th>1</th>\n",
       "    </tr>\n",
       "    <tr>\n",
       "      <th>cells</th>\n",
       "      <th></th>\n",
       "      <th></th>\n",
       "    </tr>\n",
       "  </thead>\n",
       "  <tbody>\n",
       "    <tr>\n",
       "      <th>CTRL_037!!AATTTCCAGATGCAGC-1</th>\n",
       "      <td>CTRL_037!!AATTTCCAGATGCAGC-1</td>\n",
       "      <td>Steady-state</td>\n",
       "    </tr>\n",
       "    <tr>\n",
       "      <th>CTRL_037!!CACTAAGGTAATCAAG-1</th>\n",
       "      <td>CTRL_037!!CACTAAGGTAATCAAG-1</td>\n",
       "      <td>Steady-state</td>\n",
       "    </tr>\n",
       "    <tr>\n",
       "      <th>CTRL_037!!CAGATCAGTACCTTCC-1</th>\n",
       "      <td>CTRL_037!!CAGATCAGTACCTTCC-1</td>\n",
       "      <td>Intermediate2</td>\n",
       "    </tr>\n",
       "    <tr>\n",
       "      <th>CTRL_037!!GTCTACCTCGCCTATC-1</th>\n",
       "      <td>CTRL_037!!GTCTACCTCGCCTATC-1</td>\n",
       "      <td>Intermediate2</td>\n",
       "    </tr>\n",
       "    <tr>\n",
       "      <th>CTRL_037!!TCTCACGAGACATCCT-1</th>\n",
       "      <td>CTRL_037!!TCTCACGAGACATCCT-1</td>\n",
       "      <td>Steady-state</td>\n",
       "    </tr>\n",
       "    <tr>\n",
       "      <th>...</th>\n",
       "      <td>...</td>\n",
       "      <td>...</td>\n",
       "    </tr>\n",
       "    <tr>\n",
       "      <th>PD_1449!!GTCTGTCTCCGGGACT-1</th>\n",
       "      <td>PD_K1449!!GTCTGTCTCCGGGACT-1</td>\n",
       "      <td>Intermediate1</td>\n",
       "    </tr>\n",
       "    <tr>\n",
       "      <th>PD_1449!!CCGATGGTCTAGGCCG-1</th>\n",
       "      <td>PD_K1449!!CCGATGGTCTAGGCCG-1</td>\n",
       "      <td>PVMs</td>\n",
       "    </tr>\n",
       "    <tr>\n",
       "      <th>PD_1449!!TACCGAAGTATCTTCT-1</th>\n",
       "      <td>PD_K1449!!TACCGAAGTATCTTCT-1</td>\n",
       "      <td>Intermediate2</td>\n",
       "    </tr>\n",
       "    <tr>\n",
       "      <th>PD_1449!!CCGGGTAGTCACAGTT-1</th>\n",
       "      <td>PD_K1449!!CCGGGTAGTCACAGTT-1</td>\n",
       "      <td>Steady-state</td>\n",
       "    </tr>\n",
       "    <tr>\n",
       "      <th>PD_1449!!TATTCCAGTGATCATC-1</th>\n",
       "      <td>PD_K1449!!TATTCCAGTGATCATC-1</td>\n",
       "      <td>Steady-state</td>\n",
       "    </tr>\n",
       "  </tbody>\n",
       "</table>\n",
       "<p>6929 rows × 2 columns</p>\n",
       "</div>"
      ],
      "text/plain": [
       "                                                         0              1\n",
       "cells                                                                    \n",
       "CTRL_037!!AATTTCCAGATGCAGC-1  CTRL_037!!AATTTCCAGATGCAGC-1   Steady-state\n",
       "CTRL_037!!CACTAAGGTAATCAAG-1  CTRL_037!!CACTAAGGTAATCAAG-1   Steady-state\n",
       "CTRL_037!!CAGATCAGTACCTTCC-1  CTRL_037!!CAGATCAGTACCTTCC-1  Intermediate2\n",
       "CTRL_037!!GTCTACCTCGCCTATC-1  CTRL_037!!GTCTACCTCGCCTATC-1  Intermediate2\n",
       "CTRL_037!!TCTCACGAGACATCCT-1  CTRL_037!!TCTCACGAGACATCCT-1   Steady-state\n",
       "...                                                    ...            ...\n",
       "PD_1449!!GTCTGTCTCCGGGACT-1   PD_K1449!!GTCTGTCTCCGGGACT-1  Intermediate1\n",
       "PD_1449!!CCGATGGTCTAGGCCG-1   PD_K1449!!CCGATGGTCTAGGCCG-1           PVMs\n",
       "PD_1449!!TACCGAAGTATCTTCT-1   PD_K1449!!TACCGAAGTATCTTCT-1  Intermediate2\n",
       "PD_1449!!CCGGGTAGTCACAGTT-1   PD_K1449!!CCGGGTAGTCACAGTT-1   Steady-state\n",
       "PD_1449!!TATTCCAGTGATCATC-1   PD_K1449!!TATTCCAGTGATCATC-1   Steady-state\n",
       "\n",
       "[6929 rows x 2 columns]"
      ]
     },
     "execution_count": 5,
     "metadata": {},
     "output_type": "execute_result"
    }
   ],
   "source": [
    "anno = pd.read_csv(\"microglia_pvms_annotation.csv\", header = None)\n",
    "anno.index = anno[0].str.replace(\"_K\", \"_\")\n",
    "anno.index.name = \"cells\"\n",
    "anno"
   ]
  },
  {
   "cell_type": "code",
   "execution_count": 6,
   "id": "c542cfcb-1382-455e-af9f-76c7968869df",
   "metadata": {},
   "outputs": [],
   "source": [
    "adata_subset.obs.index = cellids\n",
    "adata_subset.var.index = genes[0]\n",
    "adata_subset.obs[\"annotation\"] = anno[1]\n",
    "adata_subset.obs.index.name = \"cells\"\n",
    "adata_subset.var.index.name = \"genes\""
   ]
  },
  {
   "cell_type": "code",
   "execution_count": 7,
   "id": "d4a6ef86-4669-477b-94f3-707e9b33b8dc",
   "metadata": {},
   "outputs": [
    {
     "data": {
      "text/html": [
       "<div>\n",
       "<style scoped>\n",
       "    .dataframe tbody tr th:only-of-type {\n",
       "        vertical-align: middle;\n",
       "    }\n",
       "\n",
       "    .dataframe tbody tr th {\n",
       "        vertical-align: top;\n",
       "    }\n",
       "\n",
       "    .dataframe thead th {\n",
       "        text-align: right;\n",
       "    }\n",
       "</style>\n",
       "<table border=\"1\" class=\"dataframe\">\n",
       "  <thead>\n",
       "    <tr style=\"text-align: right;\">\n",
       "      <th></th>\n",
       "      <th>0</th>\n",
       "      <th>1</th>\n",
       "    </tr>\n",
       "    <tr>\n",
       "      <th>cells</th>\n",
       "      <th></th>\n",
       "      <th></th>\n",
       "    </tr>\n",
       "  </thead>\n",
       "  <tbody>\n",
       "    <tr>\n",
       "      <th>CTRL_037!!AATTTCCAGATGCAGC-1</th>\n",
       "      <td>0.017858</td>\n",
       "      <td>-1.925463</td>\n",
       "    </tr>\n",
       "    <tr>\n",
       "      <th>CTRL_037!!CACTAAGGTAATCAAG-1</th>\n",
       "      <td>-1.087168</td>\n",
       "      <td>-1.582778</td>\n",
       "    </tr>\n",
       "    <tr>\n",
       "      <th>CTRL_037!!CAGATCAGTACCTTCC-1</th>\n",
       "      <td>-0.930021</td>\n",
       "      <td>-0.564554</td>\n",
       "    </tr>\n",
       "    <tr>\n",
       "      <th>CTRL_037!!GTCTACCTCGCCTATC-1</th>\n",
       "      <td>-0.342711</td>\n",
       "      <td>-0.211587</td>\n",
       "    </tr>\n",
       "    <tr>\n",
       "      <th>CTRL_037!!TCTCACGAGACATCCT-1</th>\n",
       "      <td>-0.240792</td>\n",
       "      <td>-2.031446</td>\n",
       "    </tr>\n",
       "    <tr>\n",
       "      <th>...</th>\n",
       "      <td>...</td>\n",
       "      <td>...</td>\n",
       "    </tr>\n",
       "    <tr>\n",
       "      <th>PD_K1449!!GTCTGTCTCCGGGACT-1</th>\n",
       "      <td>0.636007</td>\n",
       "      <td>-0.344692</td>\n",
       "    </tr>\n",
       "    <tr>\n",
       "      <th>PD_K1449!!CCGATGGTCTAGGCCG-1</th>\n",
       "      <td>0.707924</td>\n",
       "      <td>0.247146</td>\n",
       "    </tr>\n",
       "    <tr>\n",
       "      <th>PD_K1449!!TACCGAAGTATCTTCT-1</th>\n",
       "      <td>-0.192256</td>\n",
       "      <td>-0.212284</td>\n",
       "    </tr>\n",
       "    <tr>\n",
       "      <th>PD_K1449!!CCGGGTAGTCACAGTT-1</th>\n",
       "      <td>-0.123691</td>\n",
       "      <td>-0.119759</td>\n",
       "    </tr>\n",
       "    <tr>\n",
       "      <th>PD_K1449!!TATTCCAGTGATCATC-1</th>\n",
       "      <td>-0.593174</td>\n",
       "      <td>-0.936449</td>\n",
       "    </tr>\n",
       "  </tbody>\n",
       "</table>\n",
       "<p>6929 rows × 2 columns</p>\n",
       "</div>"
      ],
      "text/plain": [
       "                                     0         1\n",
       "cells                                           \n",
       "CTRL_037!!AATTTCCAGATGCAGC-1  0.017858 -1.925463\n",
       "CTRL_037!!CACTAAGGTAATCAAG-1 -1.087168 -1.582778\n",
       "CTRL_037!!CAGATCAGTACCTTCC-1 -0.930021 -0.564554\n",
       "CTRL_037!!GTCTACCTCGCCTATC-1 -0.342711 -0.211587\n",
       "CTRL_037!!TCTCACGAGACATCCT-1 -0.240792 -2.031446\n",
       "...                                ...       ...\n",
       "PD_K1449!!GTCTGTCTCCGGGACT-1  0.636007 -0.344692\n",
       "PD_K1449!!CCGATGGTCTAGGCCG-1  0.707924  0.247146\n",
       "PD_K1449!!TACCGAAGTATCTTCT-1 -0.192256 -0.212284\n",
       "PD_K1449!!CCGGGTAGTCACAGTT-1 -0.123691 -0.119759\n",
       "PD_K1449!!TATTCCAGTGATCATC-1 -0.593174 -0.936449\n",
       "\n",
       "[6929 rows x 2 columns]"
      ]
     },
     "execution_count": 7,
     "metadata": {},
     "output_type": "execute_result"
    }
   ],
   "source": [
    "emb = pd.read_csv(\"microglia_pvms.embedding\", header = None)\n",
    "emb.index = anno[0]\n",
    "emb.index.name = \"cells\"\n",
    "emb"
   ]
  },
  {
   "cell_type": "code",
   "execution_count": 8,
   "id": "ec46fbb6-31b9-4ea6-a19b-0373105c249d",
   "metadata": {},
   "outputs": [],
   "source": [
    "adata_subset.obsm[\"X_umap\"] = emb.to_numpy()\n",
    "adata_subset.X = adata_subset.X.tocsr()"
   ]
  },
  {
   "cell_type": "markdown",
   "id": "0ef70a36-43b4-4fd2-a851-c190019d0316",
   "metadata": {},
   "source": [
    "### Merge with loom"
   ]
  },
  {
   "cell_type": "markdown",
   "id": "e9917bc6-042e-4d59-b242-3a27948a1086",
   "metadata": {},
   "source": [
    "Adjust cells and genes"
   ]
  },
  {
   "cell_type": "code",
   "execution_count": 9,
   "id": "49796d95-cae6-4df6-a105-cf907174cfc1",
   "metadata": {},
   "outputs": [],
   "source": [
    "cell_list = list(set(adata.obs.index.to_list()) & set(adata_subset.obs.index.to_list()))\n",
    "gene_list = list(set(adata.var.index.to_list()) & set(adata_subset.var.index.to_list()))\n",
    "adata2 = adata[cell_list, gene_list]\n",
    "adata_subset2 = adata_subset[cell_list, gene_list]"
   ]
  },
  {
   "cell_type": "markdown",
   "id": "7986169e-2d1f-4ab4-bbf8-4c38900fc240",
   "metadata": {},
   "source": [
    "Change format of raw matrix in adata_micro"
   ]
  },
  {
   "cell_type": "code",
   "execution_count": 10,
   "id": "87ea0c89-b636-4b97-834c-8a503c5c9a4a",
   "metadata": {},
   "outputs": [],
   "source": [
    "adata_velo = scv.utils.merge(adata_subset2, adata2)"
   ]
  },
  {
   "cell_type": "code",
   "execution_count": 11,
   "id": "5754fbc6-fd05-4836-856b-323d9a9918cc",
   "metadata": {},
   "outputs": [
    {
     "name": "stderr",
     "output_type": "stream",
     "text": [
      "... storing 'annotation' as categorical\n"
     ]
    }
   ],
   "source": [
    "adata_velo.write_h5ad(\"microglia.h5ad\")"
   ]
  },
  {
   "cell_type": "markdown",
   "id": "d01ae1cc-b94e-4c2b-87b5-f761472ee683",
   "metadata": {},
   "source": [
    "## Astrocytes"
   ]
  },
  {
   "cell_type": "code",
   "execution_count": 5,
   "id": "d7047ac0-e50a-4adb-a1a1-d1fabe3bdb02",
   "metadata": {},
   "outputs": [],
   "source": [
    "adata_subset = ad.AnnData(X = fmm.mmread(\"astrocytes.mtx\"))\n",
    "cellids = pd.read_csv(\"astrocytes.cells\", header = None)[0].str.replace(\"_K\", \"_\")\n",
    "genes = pd.read_csv(\"astrocytes.genes\", header = None)"
   ]
  },
  {
   "cell_type": "code",
   "execution_count": 6,
   "id": "6c32bd39-2b20-403a-88dd-f06dec3c9a36",
   "metadata": {},
   "outputs": [
    {
     "data": {
      "text/plain": [
       "AnnData object with n_obs × n_vars = 10766 × 19415"
      ]
     },
     "execution_count": 6,
     "metadata": {},
     "output_type": "execute_result"
    }
   ],
   "source": [
    "adata_subset"
   ]
  },
  {
   "cell_type": "code",
   "execution_count": 7,
   "id": "c05feff7-868c-4b07-9dd6-1792e4aa7a3f",
   "metadata": {},
   "outputs": [
    {
     "data": {
      "text/html": [
       "<div>\n",
       "<style scoped>\n",
       "    .dataframe tbody tr th:only-of-type {\n",
       "        vertical-align: middle;\n",
       "    }\n",
       "\n",
       "    .dataframe tbody tr th {\n",
       "        vertical-align: top;\n",
       "    }\n",
       "\n",
       "    .dataframe thead th {\n",
       "        text-align: right;\n",
       "    }\n",
       "</style>\n",
       "<table border=\"1\" class=\"dataframe\">\n",
       "  <thead>\n",
       "    <tr style=\"text-align: right;\">\n",
       "      <th></th>\n",
       "      <th>0</th>\n",
       "      <th>1</th>\n",
       "    </tr>\n",
       "    <tr>\n",
       "      <th>cells</th>\n",
       "      <th></th>\n",
       "      <th></th>\n",
       "    </tr>\n",
       "  </thead>\n",
       "  <tbody>\n",
       "    <tr>\n",
       "      <th>CTRL_037!!CATGAGTTCCACACAA-1</th>\n",
       "      <td>CTRL_037!!CATGAGTTCCACACAA-1</td>\n",
       "      <td>Homeostatic_astrocytes</td>\n",
       "    </tr>\n",
       "    <tr>\n",
       "      <th>CTRL_037!!GGCTTTCCAATGACCT-1</th>\n",
       "      <td>CTRL_037!!GGCTTTCCAATGACCT-1</td>\n",
       "      <td>Homeostatic_astrocytes</td>\n",
       "    </tr>\n",
       "    <tr>\n",
       "      <th>CTRL_037!!TCCGATCAGACCATGG-1</th>\n",
       "      <td>CTRL_037!!TCCGATCAGACCATGG-1</td>\n",
       "      <td>Homeostatic_astrocytes</td>\n",
       "    </tr>\n",
       "    <tr>\n",
       "      <th>CTRL_037!!CAACCTCTCGGATACT-1</th>\n",
       "      <td>CTRL_037!!CAACCTCTCGGATACT-1</td>\n",
       "      <td>Homeostatic_astrocytes</td>\n",
       "    </tr>\n",
       "    <tr>\n",
       "      <th>CTRL_037!!GTTCATTAGTTTGCTG-1</th>\n",
       "      <td>CTRL_037!!GTTCATTAGTTTGCTG-1</td>\n",
       "      <td>Homeostatic_astrocytes</td>\n",
       "    </tr>\n",
       "    <tr>\n",
       "      <th>...</th>\n",
       "      <td>...</td>\n",
       "      <td>...</td>\n",
       "    </tr>\n",
       "    <tr>\n",
       "      <th>PD_1449!!TTCATTGTCACACCCT-1</th>\n",
       "      <td>PD_K1449!!TTCATTGTCACACCCT-1</td>\n",
       "      <td>Homeostatic_astrocytes</td>\n",
       "    </tr>\n",
       "    <tr>\n",
       "      <th>PD_1449!!TCCCACACACTACCCT-1</th>\n",
       "      <td>PD_K1449!!TCCCACACACTACCCT-1</td>\n",
       "      <td>Reactive_astrocytes</td>\n",
       "    </tr>\n",
       "    <tr>\n",
       "      <th>PD_1449!!TATTTCGCACAACCGC-1</th>\n",
       "      <td>PD_K1449!!TATTTCGCACAACCGC-1</td>\n",
       "      <td>Reactive_astrocytes</td>\n",
       "    </tr>\n",
       "    <tr>\n",
       "      <th>PD_1449!!GACATCAGTAGACACG-1</th>\n",
       "      <td>PD_K1449!!GACATCAGTAGACACG-1</td>\n",
       "      <td>Reactive_astrocytes</td>\n",
       "    </tr>\n",
       "    <tr>\n",
       "      <th>PD_1449!!CCTAACCAGCTGTGCC-1</th>\n",
       "      <td>PD_K1449!!CCTAACCAGCTGTGCC-1</td>\n",
       "      <td>Reactive_astrocytes</td>\n",
       "    </tr>\n",
       "  </tbody>\n",
       "</table>\n",
       "<p>10766 rows × 2 columns</p>\n",
       "</div>"
      ],
      "text/plain": [
       "                                                         0  \\\n",
       "cells                                                        \n",
       "CTRL_037!!CATGAGTTCCACACAA-1  CTRL_037!!CATGAGTTCCACACAA-1   \n",
       "CTRL_037!!GGCTTTCCAATGACCT-1  CTRL_037!!GGCTTTCCAATGACCT-1   \n",
       "CTRL_037!!TCCGATCAGACCATGG-1  CTRL_037!!TCCGATCAGACCATGG-1   \n",
       "CTRL_037!!CAACCTCTCGGATACT-1  CTRL_037!!CAACCTCTCGGATACT-1   \n",
       "CTRL_037!!GTTCATTAGTTTGCTG-1  CTRL_037!!GTTCATTAGTTTGCTG-1   \n",
       "...                                                    ...   \n",
       "PD_1449!!TTCATTGTCACACCCT-1   PD_K1449!!TTCATTGTCACACCCT-1   \n",
       "PD_1449!!TCCCACACACTACCCT-1   PD_K1449!!TCCCACACACTACCCT-1   \n",
       "PD_1449!!TATTTCGCACAACCGC-1   PD_K1449!!TATTTCGCACAACCGC-1   \n",
       "PD_1449!!GACATCAGTAGACACG-1   PD_K1449!!GACATCAGTAGACACG-1   \n",
       "PD_1449!!CCTAACCAGCTGTGCC-1   PD_K1449!!CCTAACCAGCTGTGCC-1   \n",
       "\n",
       "                                                   1  \n",
       "cells                                                 \n",
       "CTRL_037!!CATGAGTTCCACACAA-1  Homeostatic_astrocytes  \n",
       "CTRL_037!!GGCTTTCCAATGACCT-1  Homeostatic_astrocytes  \n",
       "CTRL_037!!TCCGATCAGACCATGG-1  Homeostatic_astrocytes  \n",
       "CTRL_037!!CAACCTCTCGGATACT-1  Homeostatic_astrocytes  \n",
       "CTRL_037!!GTTCATTAGTTTGCTG-1  Homeostatic_astrocytes  \n",
       "...                                              ...  \n",
       "PD_1449!!TTCATTGTCACACCCT-1   Homeostatic_astrocytes  \n",
       "PD_1449!!TCCCACACACTACCCT-1      Reactive_astrocytes  \n",
       "PD_1449!!TATTTCGCACAACCGC-1      Reactive_astrocytes  \n",
       "PD_1449!!GACATCAGTAGACACG-1      Reactive_astrocytes  \n",
       "PD_1449!!CCTAACCAGCTGTGCC-1      Reactive_astrocytes  \n",
       "\n",
       "[10766 rows x 2 columns]"
      ]
     },
     "execution_count": 7,
     "metadata": {},
     "output_type": "execute_result"
    }
   ],
   "source": [
    "anno = pd.read_csv(\"astrocytes.annotation\", header = None)\n",
    "anno.index = anno[0].str.replace(\"_K\", \"_\")\n",
    "anno.index.name = \"cells\"\n",
    "anno"
   ]
  },
  {
   "cell_type": "code",
   "execution_count": 9,
   "id": "bba1850b-11a4-4dd8-bcfe-bcea0e959fbd",
   "metadata": {},
   "outputs": [],
   "source": [
    "adata_subset.obs.index = cellids\n",
    "adata_subset.var.index = genes[0]\n",
    "adata_subset.obs[\"annotation\"] = anno[1]\n",
    "adata_subset.obs.index.name = \"cells\"\n",
    "adata_subset.var.index.name = \"genes\""
   ]
  },
  {
   "cell_type": "code",
   "execution_count": 10,
   "id": "53e02983-56ab-4c97-a346-c4d87cd96f05",
   "metadata": {},
   "outputs": [
    {
     "data": {
      "text/html": [
       "<div>\n",
       "<style scoped>\n",
       "    .dataframe tbody tr th:only-of-type {\n",
       "        vertical-align: middle;\n",
       "    }\n",
       "\n",
       "    .dataframe tbody tr th {\n",
       "        vertical-align: top;\n",
       "    }\n",
       "\n",
       "    .dataframe thead th {\n",
       "        text-align: right;\n",
       "    }\n",
       "</style>\n",
       "<table border=\"1\" class=\"dataframe\">\n",
       "  <thead>\n",
       "    <tr style=\"text-align: right;\">\n",
       "      <th></th>\n",
       "      <th>0</th>\n",
       "      <th>1</th>\n",
       "    </tr>\n",
       "    <tr>\n",
       "      <th>cells</th>\n",
       "      <th></th>\n",
       "      <th></th>\n",
       "    </tr>\n",
       "  </thead>\n",
       "  <tbody>\n",
       "    <tr>\n",
       "      <th>CTRL_037!!CATGAGTTCCACACAA-1</th>\n",
       "      <td>0.473453</td>\n",
       "      <td>0.244449</td>\n",
       "    </tr>\n",
       "    <tr>\n",
       "      <th>CTRL_037!!GGCTTTCCAATGACCT-1</th>\n",
       "      <td>1.252497</td>\n",
       "      <td>-0.255273</td>\n",
       "    </tr>\n",
       "    <tr>\n",
       "      <th>CTRL_037!!TCCGATCAGACCATGG-1</th>\n",
       "      <td>2.033582</td>\n",
       "      <td>0.652308</td>\n",
       "    </tr>\n",
       "    <tr>\n",
       "      <th>CTRL_037!!CAACCTCTCGGATACT-1</th>\n",
       "      <td>2.388103</td>\n",
       "      <td>-0.010170</td>\n",
       "    </tr>\n",
       "    <tr>\n",
       "      <th>CTRL_037!!GTTCATTAGTTTGCTG-1</th>\n",
       "      <td>2.095024</td>\n",
       "      <td>-0.010392</td>\n",
       "    </tr>\n",
       "    <tr>\n",
       "      <th>...</th>\n",
       "      <td>...</td>\n",
       "      <td>...</td>\n",
       "    </tr>\n",
       "    <tr>\n",
       "      <th>PD_K1449!!TTCATTGTCACACCCT-1</th>\n",
       "      <td>0.305426</td>\n",
       "      <td>0.247235</td>\n",
       "    </tr>\n",
       "    <tr>\n",
       "      <th>PD_K1449!!TCCCACACACTACCCT-1</th>\n",
       "      <td>0.037591</td>\n",
       "      <td>-0.271056</td>\n",
       "    </tr>\n",
       "    <tr>\n",
       "      <th>PD_K1449!!TATTTCGCACAACCGC-1</th>\n",
       "      <td>-1.719751</td>\n",
       "      <td>0.185266</td>\n",
       "    </tr>\n",
       "    <tr>\n",
       "      <th>PD_K1449!!GACATCAGTAGACACG-1</th>\n",
       "      <td>-0.828474</td>\n",
       "      <td>-0.135783</td>\n",
       "    </tr>\n",
       "    <tr>\n",
       "      <th>PD_K1449!!CCTAACCAGCTGTGCC-1</th>\n",
       "      <td>-0.206549</td>\n",
       "      <td>-0.217434</td>\n",
       "    </tr>\n",
       "  </tbody>\n",
       "</table>\n",
       "<p>10766 rows × 2 columns</p>\n",
       "</div>"
      ],
      "text/plain": [
       "                                     0         1\n",
       "cells                                           \n",
       "CTRL_037!!CATGAGTTCCACACAA-1  0.473453  0.244449\n",
       "CTRL_037!!GGCTTTCCAATGACCT-1  1.252497 -0.255273\n",
       "CTRL_037!!TCCGATCAGACCATGG-1  2.033582  0.652308\n",
       "CTRL_037!!CAACCTCTCGGATACT-1  2.388103 -0.010170\n",
       "CTRL_037!!GTTCATTAGTTTGCTG-1  2.095024 -0.010392\n",
       "...                                ...       ...\n",
       "PD_K1449!!TTCATTGTCACACCCT-1  0.305426  0.247235\n",
       "PD_K1449!!TCCCACACACTACCCT-1  0.037591 -0.271056\n",
       "PD_K1449!!TATTTCGCACAACCGC-1 -1.719751  0.185266\n",
       "PD_K1449!!GACATCAGTAGACACG-1 -0.828474 -0.135783\n",
       "PD_K1449!!CCTAACCAGCTGTGCC-1 -0.206549 -0.217434\n",
       "\n",
       "[10766 rows x 2 columns]"
      ]
     },
     "execution_count": 10,
     "metadata": {},
     "output_type": "execute_result"
    }
   ],
   "source": [
    "emb = pd.read_csv(\"astrocytes.embedding\", header = None)\n",
    "emb.index = anno[0]\n",
    "emb.index.name = \"cells\"\n",
    "emb"
   ]
  },
  {
   "cell_type": "code",
   "execution_count": 11,
   "id": "529de9b2-4070-49b4-b0ba-f632a49d819f",
   "metadata": {},
   "outputs": [],
   "source": [
    "adata_subset.obsm[\"X_umap\"] = emb.to_numpy()\n",
    "adata_subset.X = adata_subset.X.tocsr()"
   ]
  },
  {
   "cell_type": "markdown",
   "id": "eb672b35-4fad-4add-99e5-ac922f74786d",
   "metadata": {},
   "source": [
    "### Merge with loom"
   ]
  },
  {
   "cell_type": "code",
   "execution_count": 13,
   "id": "449999d9-9175-4e51-a5f3-cdbbda92beb4",
   "metadata": {},
   "outputs": [],
   "source": [
    "cell_list = list(set(adata.obs.index.to_list()) & set(adata_subset.obs.index.to_list()))\n",
    "gene_list = list(set(adata.var.index.to_list()) & set(adata_subset.var.index.to_list()))\n",
    "adata2 = adata[cell_list, gene_list]\n",
    "adata_subset2 = adata_subset[cell_list, gene_list]"
   ]
  },
  {
   "cell_type": "code",
   "execution_count": 14,
   "id": "b6f4b815-87ae-49e5-81ea-9bffd75d5801",
   "metadata": {},
   "outputs": [],
   "source": [
    "adata_velo = scv.utils.merge(adata_subset2, adata2)"
   ]
  },
  {
   "cell_type": "code",
   "execution_count": 15,
   "id": "efd89d12-5cfd-42f4-8f0f-4c535c6c538b",
   "metadata": {},
   "outputs": [
    {
     "data": {
      "text/plain": [
       "AnnData object with n_obs × n_vars = 9076 × 19407\n",
       "    obs: 'annotation', 'Clusters', '_X', '_Y', 'initial_size_unspliced', 'initial_size_spliced', 'initial_size'\n",
       "    var: 'Accession', 'Chromosome', 'End', 'Start', 'Strand'\n",
       "    obsm: 'X_umap'\n",
       "    layers: 'ambiguous', 'matrix', 'spliced', 'unspliced'"
      ]
     },
     "execution_count": 15,
     "metadata": {},
     "output_type": "execute_result"
    }
   ],
   "source": [
    "adata_velo"
   ]
  },
  {
   "cell_type": "code",
   "execution_count": 16,
   "id": "895f54bd-a49a-4af6-acaa-dd2203c2155a",
   "metadata": {},
   "outputs": [
    {
     "name": "stderr",
     "output_type": "stream",
     "text": [
      "... storing 'annotation' as categorical\n"
     ]
    }
   ],
   "source": [
    "adata_velo.write_h5ad(\"astrocytes.h5ad\")"
   ]
  }
 ],
 "metadata": {
  "kernelspec": {
   "display_name": "scvelo",
   "language": "python",
   "name": "scvelo"
  },
  "language_info": {
   "codemirror_mode": {
    "name": "ipython",
    "version": 3
   },
   "file_extension": ".py",
   "mimetype": "text/x-python",
   "name": "python",
   "nbconvert_exporter": "python",
   "pygments_lexer": "ipython3",
   "version": "3.7.0"
  }
 },
 "nbformat": 4,
 "nbformat_minor": 5
}
